{
 "cells": [
  {
   "cell_type": "markdown",
   "metadata": {},
   "source": [
    "# Leveraging Social Media to Identify Major Historic Flood Events, Notebook 1/3: "
   ]
  },
  {
   "cell_type": "markdown",
   "metadata": {},
   "source": [
    "## Twitter Scraper"
   ]
  },
  {
   "cell_type": "markdown",
   "metadata": {},
   "source": [
    "#### Contents:\n",
    "- [Library import](#Library-import)\n",
    "- [Variable declaration](#Variable-declaration)\n",
    "- [Twitter scrape](#Twitter-scrape)\n",
    "- [Save data to csv](#Save-data-to-csv)"
   ]
  },
  {
   "cell_type": "markdown",
   "metadata": {},
   "source": [
    "### Library import"
   ]
  },
  {
   "cell_type": "code",
   "execution_count": 12,
   "metadata": {
    "scrolled": true
   },
   "outputs": [],
   "source": [
    "# Import Libraries\n",
    "import pandas as pd\n",
    "import numpy as np\n",
    "from twitterscraper import query_tweets\n",
    "import datetime as dt\n",
    "\n",
    "# Widen column width so more tweet content is visible\n",
    "pd.set_option('max_colwidth', 300)"
   ]
  },
  {
   "cell_type": "markdown",
   "metadata": {},
   "source": [
    "### Variable declaration"
   ]
  },
  {
   "cell_type": "code",
   "execution_count": 42,
   "metadata": {},
   "outputs": [],
   "source": [
    "# Set date range and city of interest for twitter scrape here\n",
    "start_date = dt.date(2014, 1, 1)\n",
    "end_date = dt.date(2018, 1, 1)\n",
    "lang = 'english'\n",
    "city = 'Manila'"
   ]
  },
  {
   "cell_type": "markdown",
   "metadata": {},
   "source": [
    "### Twitter scrape"
   ]
  },
  {
   "cell_type": "code",
   "execution_count": 43,
   "metadata": {
    "scrolled": false
   },
   "outputs": [
    {
     "name": "stderr",
     "output_type": "stream",
     "text": [
      "INFO: queries: [' (\"#flood\" OR \"#flooding\" OR \"floodwater\" OR \"floodwaters\" OR \"#floodwater\" OR \"#floodwaters\" OR \"#flooddamage\" OR \"#flooddamages\" OR \"#flooddeath\" OR \"#flooddeaths\") AND (\"Manila\" OR \"Manilaflood\" OR \"Manilaflooding\" OR \"#Manila\" OR \"#Manilaflood\" OR \"#Manilaflooding\" OR \"#Manilaweather\") -filter:retweets since:2014-01-01 until:2014-05-27', ' (\"#flood\" OR \"#flooding\" OR \"floodwater\" OR \"floodwaters\" OR \"#floodwater\" OR \"#floodwaters\" OR \"#flooddamage\" OR \"#flooddamages\" OR \"#flooddeath\" OR \"#flooddeaths\") AND (\"Manila\" OR \"Manilaflood\" OR \"Manilaflooding\" OR \"#Manila\" OR \"#Manilaflood\" OR \"#Manilaflooding\" OR \"#Manilaweather\") -filter:retweets since:2014-05-27 until:2014-10-20', ' (\"#flood\" OR \"#flooding\" OR \"floodwater\" OR \"floodwaters\" OR \"#floodwater\" OR \"#floodwaters\" OR \"#flooddamage\" OR \"#flooddamages\" OR \"#flooddeath\" OR \"#flooddeaths\") AND (\"Manila\" OR \"Manilaflood\" OR \"Manilaflooding\" OR \"#Manila\" OR \"#Manilaflood\" OR \"#Manilaflooding\" OR \"#Manilaweather\") -filter:retweets since:2014-10-20 until:2015-03-15', ' (\"#flood\" OR \"#flooding\" OR \"floodwater\" OR \"floodwaters\" OR \"#floodwater\" OR \"#floodwaters\" OR \"#flooddamage\" OR \"#flooddamages\" OR \"#flooddeath\" OR \"#flooddeaths\") AND (\"Manila\" OR \"Manilaflood\" OR \"Manilaflooding\" OR \"#Manila\" OR \"#Manilaflood\" OR \"#Manilaflooding\" OR \"#Manilaweather\") -filter:retweets since:2015-03-15 until:2015-08-08', ' (\"#flood\" OR \"#flooding\" OR \"floodwater\" OR \"floodwaters\" OR \"#floodwater\" OR \"#floodwaters\" OR \"#flooddamage\" OR \"#flooddamages\" OR \"#flooddeath\" OR \"#flooddeaths\") AND (\"Manila\" OR \"Manilaflood\" OR \"Manilaflooding\" OR \"#Manila\" OR \"#Manilaflood\" OR \"#Manilaflooding\" OR \"#Manilaweather\") -filter:retweets since:2015-08-08 until:2016-01-01', ' (\"#flood\" OR \"#flooding\" OR \"floodwater\" OR \"floodwaters\" OR \"#floodwater\" OR \"#floodwaters\" OR \"#flooddamage\" OR \"#flooddamages\" OR \"#flooddeath\" OR \"#flooddeaths\") AND (\"Manila\" OR \"Manilaflood\" OR \"Manilaflooding\" OR \"#Manila\" OR \"#Manilaflood\" OR \"#Manilaflooding\" OR \"#Manilaweather\") -filter:retweets since:2016-01-01 until:2016-05-26', ' (\"#flood\" OR \"#flooding\" OR \"floodwater\" OR \"floodwaters\" OR \"#floodwater\" OR \"#floodwaters\" OR \"#flooddamage\" OR \"#flooddamages\" OR \"#flooddeath\" OR \"#flooddeaths\") AND (\"Manila\" OR \"Manilaflood\" OR \"Manilaflooding\" OR \"#Manila\" OR \"#Manilaflood\" OR \"#Manilaflooding\" OR \"#Manilaweather\") -filter:retweets since:2016-05-26 until:2016-10-19', ' (\"#flood\" OR \"#flooding\" OR \"floodwater\" OR \"floodwaters\" OR \"#floodwater\" OR \"#floodwaters\" OR \"#flooddamage\" OR \"#flooddamages\" OR \"#flooddeath\" OR \"#flooddeaths\") AND (\"Manila\" OR \"Manilaflood\" OR \"Manilaflooding\" OR \"#Manila\" OR \"#Manilaflood\" OR \"#Manilaflooding\" OR \"#Manilaweather\") -filter:retweets since:2016-10-19 until:2017-03-14', ' (\"#flood\" OR \"#flooding\" OR \"floodwater\" OR \"floodwaters\" OR \"#floodwater\" OR \"#floodwaters\" OR \"#flooddamage\" OR \"#flooddamages\" OR \"#flooddeath\" OR \"#flooddeaths\") AND (\"Manila\" OR \"Manilaflood\" OR \"Manilaflooding\" OR \"#Manila\" OR \"#Manilaflood\" OR \"#Manilaflooding\" OR \"#Manilaweather\") -filter:retweets since:2017-03-14 until:2017-08-07', ' (\"#flood\" OR \"#flooding\" OR \"floodwater\" OR \"floodwaters\" OR \"#floodwater\" OR \"#floodwaters\" OR \"#flooddamage\" OR \"#flooddamages\" OR \"#flooddeath\" OR \"#flooddeaths\") AND (\"Manila\" OR \"Manilaflood\" OR \"Manilaflooding\" OR \"#Manila\" OR \"#Manilaflood\" OR \"#Manilaflooding\" OR \"#Manilaweather\") -filter:retweets since:2017-08-07 until:2018-01-01']\n",
      "INFO: Got 22 tweets (22 new).\n",
      "INFO: Got 36 tweets (14 new).\n",
      "INFO: Got 92 tweets (56 new).\n",
      "INFO: Got 137 tweets (45 new).\n",
      "INFO: Got 208 tweets (71 new).\n",
      "INFO: Got 228 tweets (20 new).\n",
      "INFO: Got 300 tweets (72 new).\n",
      "INFO: Got 386 tweets (86 new).\n",
      "INFO: Got 467 tweets (81 new).\n",
      "INFO: Got 702 tweets (235 new).\n"
     ]
    }
   ],
   "source": [
    "# Use the twitterscraper library's \"query_tweets\" to scrape all tweets of interest\n",
    "# 'near' keyword not used because only returns information if users have their location turned on--and that is only a small number of users\n",
    "tweet_list = query_tweets(f' (\"#flood\" OR \"#flooding\" OR \"floodwater\" OR \"floodwaters\" OR \"#floodwater\" OR \"#floodwaters\" OR \"#flooddamage\" OR \"#flooddamages\" OR \"#flooddeath\" OR \"#flooddeaths\") AND (\"{city}\" OR \"{city}flood\" OR \"{city}flooding\" OR \"#{city}\" OR \"#{city}flood\" OR \"#{city}flooding\" OR \"#{city}weather\") -filter:retweets',\n",
    "                               #ADD TIMESTAMP\n",
    "                              begindate = start_date,\n",
    "                              enddate = end_date,\n",
    "                              lang = lang,\n",
    "                              poolsize = 10)"
   ]
  },
  {
   "cell_type": "code",
   "execution_count": 44,
   "metadata": {},
   "outputs": [],
   "source": [
    "# Save scraped tweets to a dataframe\n",
    "df = pd.DataFrame(t.__dict__ for t in tweet_list)"
   ]
  },
  {
   "cell_type": "code",
   "execution_count": 45,
   "metadata": {
    "scrolled": true
   },
   "outputs": [
    {
     "data": {
      "text/plain": [
       "(702, 16)"
      ]
     },
     "execution_count": 45,
     "metadata": {},
     "output_type": "execute_result"
    }
   ],
   "source": [
    "# How many tweets have we gotten?\n",
    "df.shape"
   ]
  },
  {
   "cell_type": "markdown",
   "metadata": {},
   "source": [
    "**# of tweets per city:** <br>\n",
    "\n",
    "Houston: 33,036 tweets <br>\n",
    "Manila: 702 tweets <br>\n",
    "\n",
    "\n",
    "Note: The scrape was originally run on Bangkok, Kolkata, and Mumbai as well, as examples of developing cities, but Manila had a comparable number of tweets to the other cities, and much more complete meteorological data, hence our choice of city. We were still only able to collect ~.02x the number of tweets for Manila that we were for Houston, which does influence our overall results."
   ]
  },
  {
   "cell_type": "markdown",
   "metadata": {},
   "source": [
    "### Save data to csv"
   ]
  },
  {
   "cell_type": "code",
   "execution_count": 47,
   "metadata": {},
   "outputs": [],
   "source": [
    "# Save scraped tweets to a csv for analysis\n",
    "df.to_csv(f'../data/tweetscrape_{city}_{start_date}_to_{end_date}.csv', index = None)"
   ]
  }
 ],
 "metadata": {
  "kernelspec": {
   "display_name": "Python 3",
   "language": "python",
   "name": "python3"
  },
  "language_info": {
   "codemirror_mode": {
    "name": "ipython",
    "version": 3
   },
   "file_extension": ".py",
   "mimetype": "text/x-python",
   "name": "python",
   "nbconvert_exporter": "python",
   "pygments_lexer": "ipython3",
   "version": "3.7.4"
  },
  "toc": {
   "base_numbering": 1,
   "nav_menu": {},
   "number_sections": true,
   "sideBar": true,
   "skip_h1_title": false,
   "title_cell": "Table of Contents",
   "title_sidebar": "Contents",
   "toc_cell": false,
   "toc_position": {},
   "toc_section_display": true,
   "toc_window_display": true
  },
  "varInspector": {
   "cols": {
    "lenName": 16,
    "lenType": 16,
    "lenVar": 40
   },
   "kernels_config": {
    "python": {
     "delete_cmd_postfix": "",
     "delete_cmd_prefix": "del ",
     "library": "var_list.py",
     "varRefreshCmd": "print(var_dic_list())"
    },
    "r": {
     "delete_cmd_postfix": ") ",
     "delete_cmd_prefix": "rm(",
     "library": "var_list.r",
     "varRefreshCmd": "cat(var_dic_list()) "
    }
   },
   "types_to_exclude": [
    "module",
    "function",
    "builtin_function_or_method",
    "instance",
    "_Feature"
   ],
   "window_display": false
  }
 },
 "nbformat": 4,
 "nbformat_minor": 2
}
